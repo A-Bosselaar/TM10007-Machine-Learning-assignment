{
 "cells": [
  {
   "cell_type": "markdown",
   "metadata": {},
   "source": [
    "This file consists of all feature selection methods that were tried and evaluated that aren't used in the final model"
   ]
  },
  {
   "cell_type": "code",
   "execution_count": null,
   "metadata": {},
   "outputs": [],
   "source": [
    "## Mutual information\n",
    "\n",
    "import numpy as np\n",
    "import matplotlib.pyplot as plt\n",
    "import seaborn as sns\n",
    "from sklearn.feature_selection import mutual_info_classif\n",
    "from sklearn.ensemble import RandomForestClassifier\n",
    "from sklearn.metrics import accuracy_score, classification_report, confusion_matrix\n",
    "\n",
    "# Select Features using Mutual Information\n",
    "mi_scores = mutual_info_classif(X_train_scaled, y_train)\n",
    "mi_feature_indices = np.argsort(mi_scores)[-2100:]  # Select top 100 features\n",
    "X_train_mi = X_train_scaled[:, mi_feature_indices]\n",
    "X_val_mi = X_val_scaled[:, mi_feature_indices]\n",
    "\n",
    "# Train Random Forest with Selected Features\n",
    "rf_mi = RandomForestClassifier(random_state=42)\n",
    "rf_mi.fit(X_train_mi, y_train)\n",
    "y_pred_mi = rf_mi.predict(X_val_mi)\n",
    "\n",
    "# Compute Accuracy, classification report & Confusion Matrix\n",
    "accuracy_mi = accuracy_score(y_val, y_pred_mi)\n",
    "print(classification_report(y_val, y_pred_mi))\n",
    "cm_mi = confusion_matrix(y_val, y_pred_mi)\n",
    "\n",
    "print(f\"Accuracy (Mutual Information Feature Selection): {accuracy_mi:.4f}\")\n",
    "\n",
    "# Plot confusion matrix\n",
    "plt.figure(figsize=(6, 5))\n",
    "sns.heatmap(cm_mi, annot=True, fmt='d', cmap='Blues', xticklabels=[\"Normal\", \"Abnormal\"], yticklabels=[\"Normal\", \"Abnormal\"])\n",
    "plt.xlabel(\"Predicted\")\n",
    "plt.ylabel(\"Actual\")\n",
    "plt.title(\"Confusion Matrix\")\n",
    "plt.show()"
   ]
  }
 ],
 "metadata": {
  "language_info": {
   "name": "python"
  }
 },
 "nbformat": 4,
 "nbformat_minor": 2
}
