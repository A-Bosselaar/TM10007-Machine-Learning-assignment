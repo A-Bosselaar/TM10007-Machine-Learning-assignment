{
  "cells": [
    {
      "cell_type": "markdown",
      "metadata": {
        "id": "7SXpaKwwGe5x"
      },
      "source": [
        "# TM10007 Assignment template -- ECG data"
      ]
    },
    {
      "cell_type": "markdown",
      "metadata": {
        "id": "bUuclRrjnSPl"
      },
      "source": [
        "## Data loading and cleaning\n",
        "\n",
        "Below are functions to load the dataset of your choice. After that, it is all up to you to create and evaluate a classification method. Beware, there may be missing values in these datasets. Good luck!"
      ]
    },
    {
      "cell_type": "code",
      "execution_count": 20,
      "metadata": {
        "colab": {
          "base_uri": "https://localhost:8080/"
        },
        "id": "CiDn2Sk-VWqE",
        "outputId": "58aaa564-79dc-4a82-bbbb-e7fdd13efcb8"
      },
      "outputs": [
        {
          "name": "stdout",
          "output_type": "stream",
          "text": [
            "The number of samples: 827\n",
            "The number of columns: 9001\n"
          ]
        }
      ],
      "source": [
        "# Run this to use from colab environment\n",
        "\n",
        "import zipfile\n",
        "import os\n",
        "import pandas as pd\n",
        "import numpy as np\n",
        "\n",
        "with zipfile.ZipFile('ecg/ecg_data.zip', 'r') as zip_ref: #TODO: let hierop voor inleveren\n",
        "    zip_ref.extractall('ecg')\n",
        "\n",
        "data = pd.read_csv('ecg/ecg_data.csv', index_col=0)\n",
        "\n",
        "print(f'The number of samples: {len(data.index)}')\n",
        "print(f'The number of columns: {len(data.columns)}')"
      ]
    },
    {
      "cell_type": "code",
      "execution_count": 3,
      "metadata": {
        "colab": {
          "base_uri": "https://localhost:8080/",
          "height": 507
        },
        "id": "yhiFleVvphK1",
        "outputId": "7fd29d9c-1661-4fc0-fa3e-d4bb3a53cb22"
      },
      "outputs": [
        {
          "data": {
            "image/png": "[encoded data removed]",
            "text/plain": [
              "<Figure size 864x360 with 1 Axes>"
            ]
          },
          "metadata": {
            "needs_background": "light"
          },
          "output_type": "display_data"
        }
      ],
      "source": [
        "import matplotlib.pyplot as plt\n",
        "\n",
        "# Select the first row (single ECG waveform)\n",
        "sample_ecg = data.iloc[0, 1:-1]  # Exclude index and label\n",
        "\n",
        "# Plot the ECG waveform\n",
        "plt.figure(figsize=(12, 5))  \n",
        "plt.plot(sample_ecg.values)  \n",
        "plt.title('Single ECG Waveform')  \n",
        "plt.xlabel('Time (samples)')  \n",
        "plt.ylabel('Amplitude')  \n",
        "plt.grid(True)  \n",
        "plt.show()\n"
      ]
    },
    {
      "cell_type": "markdown",
      "metadata": {},
      "source": [
        "1. Preprocessing"
      ]
    },
    {
      "cell_type": "markdown",
      "metadata": {},
      "source": [
        "1.1 Check for missing data"
      ]
    },
    {
      "cell_type": "code",
      "execution_count": null,
      "metadata": {},
      "outputs": [],
      "source": [
        "from sklearn.impute import SimpleImputer\n",
        "\n",
        "def handle_missing_values(data, feature_threshold=0.3, patient_threshold=0.3):\n",
        "    \"\"\"\n",
        "    Handles missing values in the dataset by:\n",
        "    1. Removing features (columns) with more than a given percentage of missing values.\n",
        "    2. Removing patients (rows) with more than a given percentage of missing values.\n",
        "    3. Imputing remaining missing values using the median per feature.\n",
        "    \n",
        "    Parameters:\n",
        "        data (pd.DataFrame): The input dataset.\n",
        "        feature_threshold (float): Maximum allowed proportion of missing values per feature before removal.\n",
        "        patient_threshold (float): Maximum allowed proportion of missing values per patient before removal.\n",
        "    \n",
        "    Returns:\n",
        "        pd.DataFrame: Cleaned dataset with missing values handled.\n",
        "    \"\"\"\n",
        "\n",
        "    total_missing = data.isnull().sum().sum()\n",
        "    print(f\"Total missing values: {total_missing}\")\n",
        "\n",
        "    if total_missing == 0:\n",
        "        return data\n",
        "\n",
        "    print(\"Handling missing values...\")\n",
        "\n",
        "    # Define absolute thresholds based on proportions\n",
        "    feature_missing_threshold = feature_threshold * len(data)  \n",
        "    patient_missing_threshold = patient_threshold * len(data.columns)  \n",
        "\n",
        "    # Step 1: Remove features with more than the allowed missing value percentage\n",
        "    features_to_drop = data.columns[data.isnull().sum() > feature_missing_threshold]\n",
        "    if len(features_to_drop) > 0:\n",
        "        data = data.drop(columns=features_to_drop)\n",
        "        print(f\"Dropped features due to excessive missing values: {list(features_to_drop)}\")\n",
        "\n",
        "    # Step 2: Remove patients with more than the allowed missing value percentage\n",
        "    patients_to_drop = data.index[data.isnull().sum(axis=1) > patient_missing_threshold]\n",
        "    if len(patients_to_drop) > 0:\n",
        "        data = data.drop(index=patients_to_drop)\n",
        "        print(f\"Dropped {len(patients_to_drop)} patients due to excessive missing values.\")\n",
        "\n",
        "    # Step 3: Impute remaining missing values using median per feature\n",
        "    imputer = SimpleImputer(strategy='median')\n",
        "    data[:] = imputer.fit_transform(data)\n",
        "    print(\"Applied median imputation to remaining missing values.\")\n",
        "\n",
        "    return data\n",
        "\n",
        "data_cleaned = handle_missing_values(data)"
      ]
    },
    {
      "cell_type": "markdown",
      "metadata": {},
      "source": [
        "1.2 Outliers (denk dat wij dit niet gaan/moeten toepassen)"
      ]
    },
    {
      "cell_type": "code",
      "execution_count": null,
      "metadata": {},
      "outputs": [],
      "source": [
        "def remove_outliers_zscore(data, threshold=4):\n",
        "    \"\"\"\n",
        "    Removes rows containing features with Z-score greater than the threshold.\n",
        "    Parameters:\n",
        "        data (pd.DataFrame): The input dataset.\n",
        "        threshold (float): The Z-score threshold for identifying outliers.\n",
        "    Returns:\n",
        "        pd.DataFrame: DataFrame with outliers removed.\n",
        "    \"\"\"\n",
        "    # Compute the Z-scores\n",
        "    z_scores = (data - data.mean()) / data.std()\n",
        "    \n",
        "    # Identify rows where any feature has a Z-score above the threshold\n",
        "    outliers = (np.abs(z_scores) > threshold).any(axis=1)\n",
        "    \n",
        "    # Remove outliers\n",
        "    data_cleaned = data[~outliers]\n",
        "    \n",
        "    print(f\"Data shape before removing outliers: {data.shape}\")\n",
        "    print(f\"Data shape after removing outliers: {data_cleaned.shape}\")\n",
        "    \n",
        "    return data_cleaned\n",
        "\n",
        "# Apply the function to your dataset\n",
        "data_cleaned = remove_outliers_zscore(data)"
      ]
    },
    {
      "cell_type": "markdown",
      "metadata": {},
      "source": [
        "1.3 Standardization (niet nodig als we Random Forest/XGBoost gebruiken)"
      ]
    },
    {
      "cell_type": "code",
      "execution_count": null,
      "metadata": {},
      "outputs": [],
      "source": [
        "from sklearn.preprocessing import StandardScaler\n",
        "\n",
        "# Initialiseer de scaler\n",
        "scaler = StandardScaler()\n",
        "\n",
        "# Pas de transformatie toe op alle numerieke features\n",
        "X_scaled = scaler.fit_transform(X) # mean 0 and sd 1"
      ]
    },
    {
      "cell_type": "markdown",
      "metadata": {},
      "source": [
        "1.4 Split into train, test and validation set"
      ]
    },
    {
      "cell_type": "code",
      "execution_count": null,
      "metadata": {},
      "outputs": [],
      "source": [
        "from sklearn.model_selection import train_test_split, StratifiedKFold\n",
        "\n",
        "# Splits features en labels\n",
        "X = data.iloc[:, :-1].values  # Alle kolommen behalve de laatste zijn de features\n",
        "y = data.iloc[:, -1].values   # De laatste kolom is de label (0 of 1)\n",
        "\n",
        "# Stap 1: Split the dataset in 80% training and 20% testset\n",
        "X_train, X_test, y_train, y_test = train_test_split(X, y, test_size=0.2, stratify=y, random_state=42)\n",
        "\n",
        "# Stap 2: Splits de trainingsset verder in 80% train en 20% validatieset\n",
        "X_train, X_val, y_train, y_val = train_test_split(X_train, y_train, test_size=0.2, stratify=y_train, random_state=42)\n",
        "\n",
        "# Stap 3: Stratified K-Fold Cross-Validation (k=5)\n",
        "kf = StratifiedKFold(n_splits=5, shuffle=True, random_state=42)\n",
        "\n",
        "# Voorbeeld van hoe je de gesplitste data door de cross-validation heen zou kunnen laten lopen\n",
        "#for train_idx, val_idx in kf.split(X_train, y_train):\n",
        "#    X_train_fold, X_val_fold = X_train[train_idx], X_train[val_idx]\n",
        "#    y_train_fold, y_val_fold = y_train[train_idx], y_train[val_idx]\n",
        "#    print(f\"Training fold size: {len(X_train_fold)}, Validation fold size: {len(X_val_fold)}\")\n"
      ]
    },
    {
      "cell_type": "code",
      "execution_count": null,
      "metadata": {},
      "outputs": [
        {
          "name": "stdout",
          "output_type": "stream",
          "text": [
            "Classification Report:\n",
            "              precision    recall  f1-score   support\n",
            "\n",
            "           0       0.84      1.00      0.91       137\n",
            "           1       1.00      0.10      0.19        29\n",
            "\n",
            "    accuracy                           0.84       166\n",
            "   macro avg       0.92      0.55      0.55       166\n",
            "weighted avg       0.87      0.84      0.79       166\n",
            "\n",
            "\n",
            "Confusion Matrix:\n",
            "[[137   0]\n",
            " [ 26   3]]\n",
            "\n",
            "ROC AUC Score: 0.7791341555499621\n"
          ]
        }
      ],
      "source": [
        "import pandas as pd\n",
        "from sklearn.model_selection import train_test_split\n",
        "from sklearn.preprocessing import StandardScaler\n",
        "from sklearn.ensemble import RandomForestClassifier\n",
        "from sklearn.metrics import classification_report, confusion_matrix, roc_auc_score\n",
        "\n",
        "# Loading ECG data and seperating labels & features\n",
        "df = pd.read_csv(\"ecg/ecg_data.csv\")\n",
        "df = df.drop(columns=['Unnamed: 0'])  # Drop index column if exists\n",
        "X = df.drop(columns=['label'])\n",
        "y = df['label']\n",
        "\n",
        "# Select low-frequency features: first 100 bins from each lead\n",
        "low_freq_features = [col for col in X.columns if int(col.split('_')[1]) < 100]\n",
        "X_low_freq = X[low_freq_features]\n",
        "\n",
        "# Scaling\n",
        "scaler = StandardScaler()\n",
        "X_scaled = scaler.fit_transform(X_low_freq)\n",
        "\n",
        "# Splitting\n",
        "X_train, X_test, y_train, y_test = train_test_split(\n",
        "    X_scaled, y, test_size=0.2, random_state=42, stratify=y\n",
        ")\n",
        "\n",
        "# Train Random Forest with class balancing\n",
        "rf_model = RandomForestClassifier(\n",
        "    n_estimators=100,\n",
        "    random_state=42,\n",
        "    class_weight='balanced'  \n",
        ")\n",
        "rf_model.fit(X_train, y_train)\n",
        "\n",
        "# Predict and evaluate\n",
        "y_pred = rf_model.predict(X_test)\n",
        "y_prob = rf_model.predict_proba(X_test)[:, 1]\n",
        "\n",
        "# Metrics\n",
        "print(\"Classification Report:\")\n",
        "print(classification_report(y_test, y_pred))\n",
        "\n",
        "print(\"\\nConfusion Matrix:\")\n",
        "print(confusion_matrix(y_test, y_pred))\n",
        "\n",
        "print(\"\\nROC AUC Score:\", roc_auc_score(y_test, y_prob))\n"
      ]
    },
    {
      "cell_type": "code",
      "execution_count": null,
      "metadata": {},
      "outputs": [],
      "source": [
        "import matplotlib.pyplot as plt\n",
        "\n",
        "# Select the first row (single ECG waveform)\n",
        "sample_ecg = data.iloc[0, :-1]  # Exclude index and label\n",
        "\n",
        "num_leads = 12\n",
        "lead_size = 750\n",
        "\n",
        "fig, axes = plt.subplots(num_leads, 1, figsize=(15, 15))\n",
        "axes = axes.flatten()\n",
        "\n",
        "# Loop through each lead\n",
        "for i, ax in enumerate(axes):\n",
        "    lead_start = i * lead_size       # Calculate the start index of the lead\n",
        "    lead_end = (i + 1) * lead_size  # Calculate the end index of the lead\n",
        "    lead = sample_ecg[lead_start:lead_end]  # Extract the lead data\n",
        "\n",
        "    ax.plot(lead)  # Plot the lead\n",
        "    ax.set_title(f'Lead {i+1}')  # Add title\n",
        "\n",
        "    # Remove x-axis ticks and labels\n",
        "    ax.set_xticks([])\n",
        "    ax.set_xticklabels([])\n",
        "\n",
        "plt.tight_layout()  # Adjust the subplots to fit into the figure\n",
        "plt.show()"
      ]
    },
    {
      "cell_type": "code",
      "execution_count": null,
      "metadata": {},
      "outputs": [],
      "source": [
        "import pandas as pd\n",
        "from sklearn.model_selection import train_test_split, GridSearchCV\n",
        "from sklearn.preprocessing import StandardScaler\n",
        "from sklearn.svm import SVC\n",
        "from sklearn.metrics import classification_report, confusion_matrix, roc_auc_score\n",
        "\n",
        "df = pd.read_csv(\"ecg/ecg_data.csv\")\n",
        "df = df.drop(columns=[\"Unnamed: 0\"], errors=\"ignore\")\n",
        "X = df.drop(columns=[\"label\"])\n",
        "y = df[\"label\"]\n",
        "\n",
        "low_freq_features = [col for col in X.columns if int(col.split('_')[1]) < 100]\n",
        "X = X[low_freq_features]\n",
        "X_train, X_test, y_train, y_test = train_test_split(\n",
        "    X, y, stratify=y, test_size=0.2, random_state=42\n",
        ")\n",
        "\n",
        "scaler = StandardScaler()\n",
        "X_train_scaled = scaler.fit_transform(X_train)\n",
        "X_test_scaled = scaler.transform(X_test)\n",
        "\n",
        "param_grid = {\n",
        "    'C': [0.1, 1, 10, 100],\n",
        "    'gamma': ['scale', 0.01, 0.1, 1],\n",
        "    'kernel': ['rbf']\n",
        "}\n",
        "\n",
        "grid = GridSearchCV(\n",
        "    estimator=SVC(probability=True, class_weight='balanced'),\n",
        "    param_grid=param_grid,\n",
        "    scoring='roc_auc',\n",
        "    cv=5,\n",
        "    verbose=1,\n",
        "    n_jobs=-1\n",
        ")\n",
        "\n",
        "grid.fit(X_train_scaled, y_train)\n",
        "\n",
        "best_svm = grid.best_estimator_\n",
        "print(\"Best Parameters:\", grid.best_params_)\n",
        "print(\"Best ROC AUC (CV):\", grid.best_score_)\n",
        "\n",
        "y_pred = best_svm.predict(X_test_scaled)\n",
        "y_prob = best_svm.predict_proba(X_test_scaled)[:, 1]\n",
        "\n",
        "print(\"\\nClassification Report:\")\n",
        "print(classification_report(y_test, y_pred))\n",
        "\n",
        "print(\"Confusion Matrix:\")\n",
        "print(confusion_matrix(y_test, y_pred))\n",
        "\n",
        "print(\"ROC AUC Score:\", roc_auc_score(y_test, y_prob))\n"
      ]
    }
  ],
  "metadata": {
    "colab": {
      "name": "assignment.ipynb",
      "provenance": []
    },
    "kernelspec": {
      "display_name": "base",
      "language": "python",
      "name": "python3"
    },
    "language_info": {
      "codemirror_mode": {
        "name": "ipython",
        "version": 3
      },
      "file_extension": ".py",
      "mimetype": "text/x-python",
      "name": "python",
      "nbconvert_exporter": "python",
      "pygments_lexer": "ipython3",
      "version": "3.12.8"
    }
  },
  "nbformat": 4,
  "nbformat_minor": 0
}
