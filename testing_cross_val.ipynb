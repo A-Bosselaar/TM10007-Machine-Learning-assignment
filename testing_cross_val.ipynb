{
 "cells": [
  {
   "cell_type": "code",
   "execution_count": 1,
   "id": "f25b5fd8",
   "metadata": {},
   "outputs": [
    {
     "name": "stdout",
     "output_type": "stream",
     "text": [
      "The number of samples: 827\n",
      "The number of columns: 9001\n"
     ]
    }
   ],
   "source": [
    "# Run this to use from colab environment\n",
    "\n",
    "import zipfile\n",
    "import os\n",
    "import pandas as pd\n",
    "import numpy as np\n",
    "\n",
    "with zipfile.ZipFile('ecg/ecg_data.zip', 'r') as zip_ref: #TODO: let hierop voor inleveren\n",
    "    zip_ref.extractall('ecg')\n",
    "\n",
    "data = pd.read_csv('ecg/ecg_data.csv', index_col=0)\n",
    "\n",
    "print(f'The number of samples: {len(data.index)}')\n",
    "print(f'The number of columns: {len(data.columns)}')"
   ]
  },
  {
   "cell_type": "code",
   "execution_count": 3,
   "id": "d93ed5a3",
   "metadata": {},
   "outputs": [],
   "source": [
    "from sklearn.model_selection import train_test_split, StratifiedKFold\n",
    "\n",
    "# Splits features en labels\n",
    "X = data.iloc[:, :-1].values  # Alle kolommen behalve de laatste zijn de features\n",
    "y = data.iloc[:, -1].values   # De laatste kolom is de label (0 of 1)"
   ]
  },
  {
   "cell_type": "code",
   "execution_count": 4,
   "id": "6ce7e007",
   "metadata": {},
   "outputs": [],
   "source": [
    "from sklearn.model_selection import train_test_split, StratifiedKFold, RandomizedSearchCV\n",
    "from sklearn.preprocessing import StandardScaler\n",
    "from sklearn.metrics import roc_auc_score\n",
    "import numpy as np\n",
    "\n",
    "def evaluate_with_nested_cv(X, y, model, param_grid, use_scaling=True, n_splits_outer=5, n_splits_inner=5, n_iter=10):\n",
    "    \"\"\"\n",
    "    Performs nested cross-validation for model selection and performance estimation.\n",
    "    \n",
    "    Args:\n",
    "        X (np.ndarray): Feature matrix\n",
    "        y (np.ndarray): Labels\n",
    "        model: Classifier (e.g. SVC(), RandomForestClassifier())\n",
    "        param_grid (dict): Hyperparameter grid for tuning\n",
    "        use_scaling (bool): Whether to scale features (important for SVM)\n",
    "        n_splits_outer (int): Folds for outer CV\n",
    "        n_splits_inner (int): Folds for inner CV\n",
    "        n_iter (int): Iterations for RandomizedSearchCV\n",
    "        \n",
    "    Returns:\n",
    "        List of outer scores and their mean\n",
    "    \"\"\"\n",
    "    outer_cv = StratifiedKFold(n_splits=n_splits_outer, shuffle=True, random_state=42)\n",
    "    scores = []\n",
    "\n",
    "    for train_idx, test_idx in outer_cv.split(X, y):\n",
    "        X_train, X_test = X[train_idx], X[test_idx]\n",
    "        y_train, y_test = y[train_idx], y[test_idx]\n",
    "\n",
    "        if use_scaling:\n",
    "            scaler = StandardScaler()\n",
    "            X_train = scaler.fit_transform(X_train)\n",
    "            X_test = scaler.transform(X_test)\n",
    "\n",
    "        inner_cv = StratifiedKFold(n_splits=n_splits_inner, shuffle=True, random_state=1)\n",
    "\n",
    "        clf = RandomizedSearchCV(\n",
    "            estimator=model,\n",
    "            param_distributions=param_grid,\n",
    "            scoring='roc_auc',\n",
    "            n_iter=n_iter,\n",
    "            cv=inner_cv,\n",
    "            n_jobs=-1,\n",
    "            random_state=1\n",
    "        )\n",
    "        clf.fit(X_train, y_train)\n",
    "        best_model = clf.best_estimator_\n",
    "\n",
    "        y_prob = best_model.predict_proba(X_test)[:, 1]\n",
    "        score = roc_auc_score(y_test, y_prob)\n",
    "        scores.append(score)\n",
    "\n",
    "    print(\"AUCs per fold:\", scores)\n",
    "    print(\"Mean AUC:\", np.mean(scores))\n",
    "    return scores\n"
   ]
  },
  {
   "cell_type": "code",
   "execution_count": null,
   "id": "1e75a1ac",
   "metadata": {},
   "outputs": [
    {
     "name": "stderr",
     "output_type": "stream",
     "text": [
      "c:\\Users\\aryav\\anaconda3\\lib\\site-packages\\sklearn\\model_selection\\_search.py:292: UserWarning: The total space of parameters 9 is smaller than n_iter=10. Running 9 iterations. For exhaustive searches, use GridSearchCV.\n",
      "  warnings.warn(\n"
     ]
    }
   ],
   "source": [
    "from sklearn.svm import SVC\n",
    "\n",
    "svm = SVC(probability=True, class_weight='balanced')\n",
    "svm_grid = {\n",
    "    'C': [0.1, 1, 10],\n",
    "    'gamma': ['scale', 0.01, 0.1],\n",
    "    'kernel': ['rbf']\n",
    "}\n",
    "\n",
    "evaluate_with_nested_cv(X, y, model=svm, param_grid=svm_grid, use_scaling=True)\n"
   ]
  }
 ],
 "metadata": {
  "kernelspec": {
   "display_name": "base",
   "language": "python",
   "name": "python3"
  },
  "language_info": {
   "codemirror_mode": {
    "name": "ipython",
    "version": 3
   },
   "file_extension": ".py",
   "mimetype": "text/x-python",
   "name": "python",
   "nbconvert_exporter": "python",
   "pygments_lexer": "ipython3",
   "version": "3.9.12"
  }
 },
 "nbformat": 4,
 "nbformat_minor": 5
}
