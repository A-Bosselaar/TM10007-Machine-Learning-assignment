{
 "cells": [
  {
   "cell_type": "code",
   "execution_count": 1,
   "id": "f25b5fd8",
   "metadata": {},
   "outputs": [
    {
     "name": "stdout",
     "output_type": "stream",
     "text": [
      "The number of samples: 827\n",
      "The number of columns: 9001\n"
     ]
    }
   ],
   "source": [
    "# Run this to use from colab environment\n",
    "\n",
    "import zipfile\n",
    "import os\n",
    "import pandas as pd\n",
    "import numpy as np\n",
    "\n",
    "with zipfile.ZipFile('ecg/ecg_data.zip', 'r') as zip_ref: #TODO: let hierop voor inleveren\n",
    "    zip_ref.extractall('ecg')\n",
    "\n",
    "data = pd.read_csv('ecg/ecg_data.csv', index_col=0)\n",
    "\n",
    "print(f'The number of samples: {len(data.index)}')\n",
    "print(f'The number of columns: {len(data.columns)}')"
   ]
  },
  {
   "cell_type": "code",
   "execution_count": 2,
   "id": "d93ed5a3",
   "metadata": {},
   "outputs": [],
   "source": [
    "from sklearn.model_selection import train_test_split, StratifiedKFold\n",
    "\n",
    "# Splits features en labels\n",
    "X = data.iloc[:, :-1].values  # Alle kolommen behalve de laatste zijn de features\n",
    "y = data.iloc[:, -1].values   # De laatste kolom is de label (0 of 1)"
   ]
  },
  {
   "cell_type": "code",
   "execution_count": 15,
   "id": "6ce7e007",
   "metadata": {},
   "outputs": [],
   "source": [
    "from sklearn.model_selection import train_test_split, StratifiedKFold, RandomizedSearchCV\n",
    "from sklearn.preprocessing import StandardScaler\n",
    "from sklearn.metrics import roc_auc_score, classification_report, confusion_matrix, ConfusionMatrixDisplay\n",
    "import numpy as np\n",
    "import matplotlib.pyplot as plt\n",
    "\n",
    "def evaluate_with_nested_cv(X, y, model, param_grid, use_scaling=True, n_splits_outer=2, n_splits_inner=2, n_iter=2):\n",
    "    \"\"\"\n",
    "    Performs nested cross-validation for model selection and performance estimation.\n",
    "    \n",
    "    Args:\n",
    "        X (np.ndarray): Feature matrix\n",
    "        y (np.ndarray): Labels\n",
    "        model: Classifier (e.g. SVC(), RandomForestClassifier())\n",
    "        param_grid (dict): Hyperparameter grid for tuning\n",
    "        use_scaling (bool): Whether to scale features (important for SVM)\n",
    "        n_splits_outer (int): Folds for outer CV\n",
    "        n_splits_inner (int): Folds for inner CV\n",
    "        n_iter (int): Iterations for RandomizedSearchCV\n",
    "        \n",
    "    Returns:\n",
    "        List of outer scores and their mean\n",
    "    \"\"\"\n",
    "    # Outer train/test split, stratified\n",
    "    X_train_full, X_test, y_train_full, y_test = train_test_split(X, y, test_size=0.2, stratify=y, random_state=42)\n",
    "\n",
    "    if use_scaling:\n",
    "        scaler = StandardScaler()\n",
    "        X_train_full = scaler.fit_transform(X_train_full)\n",
    "        X_test = scaler.transform(X_test)\n",
    "\n",
    "    inner_cv = StratifiedKFold(n_splits=n_splits_inner, shuffle=True, random_state=1)\n",
    "\n",
    "    clf = RandomizedSearchCV(\n",
    "        estimator=model,\n",
    "        param_distributions=param_grid,\n",
    "        scoring='roc_auc',\n",
    "        n_iter=n_iter,\n",
    "        cv=inner_cv,\n",
    "        n_jobs=-1,\n",
    "        random_state=1\n",
    "    )\n",
    "    clf.fit(X_train_full, y_train_full)\n",
    "    best_model = clf.best_estimator_\n",
    "\n",
    "    y_pred = best_model.predict(X_test)\n",
    "    y_prob = best_model.predict_proba(X_test)[:, 1]\n",
    "    score = roc_auc_score(y_test, y_prob)\n",
    "\n",
    "    # Classification report\n",
    "    print(\"AUC:\", score)\n",
    "    print(\"Classification Report:\")\n",
    "    print(classification_report(y_test, y_pred))\n",
    "\n",
    "    # Confusion matrix\n",
    "    cm = confusion_matrix(y_test, y_pred)\n",
    "    disp = ConfusionMatrixDisplay(confusion_matrix=cm, display_labels=best_model.classes_)\n",
    "    disp.plot(cmap='Blues')\n",
    "    plt.title(f'Confusion Matrix')\n",
    "    plt.show()\n",
    "\n",
    "    return score, classification_report(y_test, y_pred, output_dict=True), cm\n"
   ]
  },
  {
   "cell_type": "code",
   "execution_count": 16,
   "id": "1e75a1ac",
   "metadata": {},
   "outputs": [
    {
     "name": "stdout",
     "output_type": "stream",
     "text": [
      "AUC: 0.5\n",
      "Classification Report:\n",
      "              precision    recall  f1-score   support\n",
      "\n",
      "           0       0.83      1.00      0.90       137\n",
      "           1       0.00      0.00      0.00        29\n",
      "\n",
      "    accuracy                           0.83       166\n",
      "   macro avg       0.41      0.50      0.45       166\n",
      "weighted avg       0.68      0.83      0.75       166\n",
      "\n"
     ]
    },
    {
     "name": "stderr",
     "output_type": "stream",
     "text": [
      "c:\\Users\\groot\\anaconda3\\lib\\site-packages\\sklearn\\metrics\\_classification.py:1469: UndefinedMetricWarning: Precision and F-score are ill-defined and being set to 0.0 in labels with no predicted samples. Use `zero_division` parameter to control this behavior.\n",
      "  _warn_prf(average, modifier, msg_start, len(result))\n",
      "c:\\Users\\groot\\anaconda3\\lib\\site-packages\\sklearn\\metrics\\_classification.py:1469: UndefinedMetricWarning: Precision and F-score are ill-defined and being set to 0.0 in labels with no predicted samples. Use `zero_division` parameter to control this behavior.\n",
      "  _warn_prf(average, modifier, msg_start, len(result))\n",
      "c:\\Users\\groot\\anaconda3\\lib\\site-packages\\sklearn\\metrics\\_classification.py:1469: UndefinedMetricWarning: Precision and F-score are ill-defined and being set to 0.0 in labels with no predicted samples. Use `zero_division` parameter to control this behavior.\n",
      "  _warn_prf(average, modifier, msg_start, len(result))\n"
     ]
    },
    {
     "data": {
      "image/png": "[encoded data removed]",
      "text/plain": [
       "<Figure size 640x480 with 2 Axes>"
      ]
     },
     "metadata": {},
     "output_type": "display_data"
    },
    {
     "name": "stderr",
     "output_type": "stream",
     "text": [
      "c:\\Users\\groot\\anaconda3\\lib\\site-packages\\sklearn\\metrics\\_classification.py:1469: UndefinedMetricWarning: Precision and F-score are ill-defined and being set to 0.0 in labels with no predicted samples. Use `zero_division` parameter to control this behavior.\n",
      "  _warn_prf(average, modifier, msg_start, len(result))\n",
      "c:\\Users\\groot\\anaconda3\\lib\\site-packages\\sklearn\\metrics\\_classification.py:1469: UndefinedMetricWarning: Precision and F-score are ill-defined and being set to 0.0 in labels with no predicted samples. Use `zero_division` parameter to control this behavior.\n",
      "  _warn_prf(average, modifier, msg_start, len(result))\n",
      "c:\\Users\\groot\\anaconda3\\lib\\site-packages\\sklearn\\metrics\\_classification.py:1469: UndefinedMetricWarning: Precision and F-score are ill-defined and being set to 0.0 in labels with no predicted samples. Use `zero_division` parameter to control this behavior.\n",
      "  _warn_prf(average, modifier, msg_start, len(result))\n"
     ]
    },
    {
     "data": {
      "text/plain": [
       "(0.5,\n",
       " {'0': {'precision': 0.8253012048192772,\n",
       "   'recall': 1.0,\n",
       "   'f1-score': 0.9042904290429044,\n",
       "   'support': 137.0},\n",
       "  '1': {'precision': 0.0, 'recall': 0.0, 'f1-score': 0.0, 'support': 29.0},\n",
       "  'accuracy': 0.8253012048192772,\n",
       "  'macro avg': {'precision': 0.4126506024096386,\n",
       "   'recall': 0.5,\n",
       "   'f1-score': 0.4521452145214522,\n",
       "   'support': 166.0},\n",
       "  'weighted avg': {'precision': 0.6811220786761504,\n",
       "   'recall': 0.8253012048192772,\n",
       "   'f1-score': 0.74631198059565,\n",
       "   'support': 166.0}},\n",
       " array([[137,   0],\n",
       "        [ 29,   0]], dtype=int64))"
      ]
     },
     "execution_count": 16,
     "metadata": {},
     "output_type": "execute_result"
    }
   ],
   "source": [
    "from sklearn.svm import SVC\n",
    "\n",
    "svm = SVC(probability=True, class_weight='balanced')\n",
    "svm_grid = {\n",
    "    'C': [0.1, 1, 10],\n",
    "    'gamma': ['scale', 0.01, 0.1],\n",
    "    'kernel': ['rbf']\n",
    "}\n",
    "\n",
    "evaluate_with_nested_cv(X, y, model=svm, param_grid=svm_grid, use_scaling=True)\n"
   ]
  }
 ],
 "metadata": {
  "kernelspec": {
   "display_name": "base",
   "language": "python",
   "name": "python3"
  },
  "language_info": {
   "codemirror_mode": {
    "name": "ipython",
    "version": 3
   },
   "file_extension": ".py",
   "mimetype": "text/x-python",
   "name": "python",
   "nbconvert_exporter": "python",
   "pygments_lexer": "ipython3",
   "version": "3.10.9"
  }
 },
 "nbformat": 4,
 "nbformat_minor": 5
}
